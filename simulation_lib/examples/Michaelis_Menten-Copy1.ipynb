{
 "cells": [
  {
   "cell_type": "markdown",
   "metadata": {},
   "source": [
    "# Michaelis-Menten\n",
    "***\n",
    "## Setup the Environment\n",
    "***"
   ]
  },
  {
   "cell_type": "code",
   "execution_count": 1,
   "metadata": {},
   "outputs": [],
   "source": [
    "%load_ext autoreload\n",
    "%autoreload 2"
   ]
  },
  {
   "cell_type": "code",
   "execution_count": 2,
   "metadata": {},
   "outputs": [],
   "source": [
    "import os\n",
    "import sys\n",
    "sys.path.insert(1, os.path.abspath(os.path.join(os.getcwd(), '../')))\n",
    "sys.path.insert(1, os.path.abspath(os.path.join(os.getcwd(), '../libcGillesPy3D/lib/')))"
   ]
  },
  {
   "cell_type": "code",
   "execution_count": 3,
   "metadata": {},
   "outputs": [],
   "source": [
    "import gillespy3d as gillespy2"
   ]
  },
  {
   "cell_type": "code",
   "execution_count": 4,
   "metadata": {},
   "outputs": [
    {
     "data": {
      "text/plain": [
       "'/home/brian/Desktop/research/GillesPy3D/gillespy3d/__init__.py'"
      ]
     },
     "execution_count": 4,
     "metadata": {},
     "output_type": "execute_result"
    }
   ],
   "source": [
    "gillespy2.__file__"
   ]
  },
  {
   "cell_type": "code",
   "execution_count": 5,
   "metadata": {},
   "outputs": [],
   "source": [
    "def create_michaelis_menten(parameter_values=None):\n",
    "    # Initialize Model\n",
    "    model = gillespy2.Model(name=\"Michaelis_Menten\")\n",
    "\n",
    "    # Define Variables (GillesPy2.Species)\n",
    "    A = gillespy2.Species(name='Substrate', initial_value=301)\n",
    "    B = gillespy2.Species(name='Enzyme', initial_value=120)\n",
    "    C = gillespy2.Species(name='Enzyme_Substrate_Complex', \n",
    "                          initial_value=0)\n",
    "    D = gillespy2.Species(name='Product', initial_value=0)\n",
    "    \n",
    "    # Add Variables to Model\n",
    "    model.add_species([A, B, C, D])\n",
    "\n",
    "    # Define Parameters\n",
    "    rate1 = gillespy2.Parameter(name='rate1', expression=0.0017)\n",
    "    rate2 = gillespy2.Parameter(name='rate2', expression=0.5)\n",
    "    rate3 = gillespy2.Parameter(name='rate3', expression=0.1)\n",
    "    \n",
    "    # Add Parameters to Model\n",
    "    model.add_parameter([rate1, rate2, rate3])\n",
    "    \n",
    "    # Define Reactions\n",
    "    r1 = gillespy2.Reaction(\n",
    "        name=\"r1\", reactants={'Substrate': 1, 'Enzyme': 1}, \n",
    "        products={'Enzyme_Substrate_Complex': 1}, rate='rate1'\n",
    "    )\n",
    "    r2 = gillespy2.Reaction(\n",
    "        name=\"r2\", reactants={'Enzyme_Substrate_Complex': 1}, \n",
    "        products={'Substrate': 1, 'Enzyme': 1}, rate='rate2'\n",
    "    )\n",
    "    r3 = gillespy2.Reaction(\n",
    "        name=\"r3\", reactants={'Enzyme_Substrate_Complex': 1}, \n",
    "        products={'Enzyme': 1, 'Product': 1}, rate='rate3'\n",
    "    )\n",
    "    \n",
    "    # Add Reactions to Model\n",
    "    model.add_reaction([r1, r2, r3])\n",
    "    \n",
    "    # Define Timespan\n",
    "    tspan = gillespy2.TimeSpan.linspace(t=100, num_points=101)\n",
    "    \n",
    "    # Set Model Timespan\n",
    "    model.timespan(tspan)\n",
    "    return model"
   ]
  },
  {
   "cell_type": "markdown",
   "metadata": {},
   "source": [
    "### Instantiate the Model"
   ]
  },
  {
   "cell_type": "code",
   "execution_count": 6,
   "metadata": {
    "scrolled": false
   },
   "outputs": [],
   "source": [
    "model = create_michaelis_menten()"
   ]
  },
  {
   "cell_type": "code",
   "execution_count": null,
   "metadata": {},
   "outputs": [],
   "source": []
  },
  {
   "cell_type": "code",
   "execution_count": null,
   "metadata": {},
   "outputs": [],
   "source": [
    "model."
   ]
  },
  {
   "cell_type": "code",
   "execution_count": 7,
   "metadata": {},
   "outputs": [
    {
     "ename": "NameError",
     "evalue": "name 'Result' is not defined",
     "output_type": "error",
     "traceback": [
      "\u001b[0;31m---------------------------------------------------------------------------\u001b[0m",
      "\u001b[0;31mNameError\u001b[0m                                 Traceback (most recent call last)",
      "\u001b[0;32m<ipython-input-7-991b78af589c>\u001b[0m in \u001b[0;36m<module>\u001b[0;34m\u001b[0m\n\u001b[0;32m----> 1\u001b[0;31m \u001b[0mresult\u001b[0m \u001b[0;34m=\u001b[0m \u001b[0mmodel\u001b[0m\u001b[0;34m.\u001b[0m\u001b[0mrun\u001b[0m\u001b[0;34m(\u001b[0m\u001b[0;34m)\u001b[0m\u001b[0;34m\u001b[0m\u001b[0;34m\u001b[0m\u001b[0m\n\u001b[0m",
      "\u001b[0;32m~/Desktop/research/GillesPy3D/gillespy3d/core/model.py\u001b[0m in \u001b[0;36mrun\u001b[0;34m(self, number_of_trajectories, seed)\u001b[0m\n\u001b[1;32m    314\u001b[0m \u001b[0;34m\u001b[0m\u001b[0m\n\u001b[1;32m    315\u001b[0m \u001b[0;34m\u001b[0m\u001b[0m\n\u001b[0;32m--> 316\u001b[0;31m         \u001b[0;32mreturn\u001b[0m \u001b[0mResult\u001b[0m\u001b[0;34m(\u001b[0m\u001b[0msuper\u001b[0m\u001b[0;34m(\u001b[0m\u001b[0;34m)\u001b[0m\u001b[0;34m.\u001b[0m\u001b[0mrun\u001b[0m\u001b[0;34m(\u001b[0m\u001b[0mnumber_of_trajectories\u001b[0m\u001b[0;34m,\u001b[0m\u001b[0mseed\u001b[0m\u001b[0;34m)\u001b[0m\u001b[0;34m)\u001b[0m\u001b[0;34m\u001b[0m\u001b[0;34m\u001b[0m\u001b[0m\n\u001b[0m\u001b[1;32m    317\u001b[0m \u001b[0;34m\u001b[0m\u001b[0m\n",
      "\u001b[0;31mNameError\u001b[0m: name 'Result' is not defined"
     ]
    }
   ],
   "source": [
    "# The GillesPy2 way to run GillesPy3D\n",
    "result = model.run()\n",
    "result.plot()"
   ]
  },
  {
   "cell_type": "code",
   "execution_count": null,
   "metadata": {},
   "outputs": [],
   "source": [
    "# the other way to run GillesPy3D\n",
    "sim = gillespy2.Simulation(model, mode='jit')\n",
    "num_traj = 5\n",
    "for traj in range(num_traj):\n",
    "    sim.reset() # reset the simulation after each run\n",
    "    dt = .1;\n",
    "    end_t = 10;\n",
    "    while sim.t < end_t:\n",
    "        print('traj',traj,' t:',sim.t,' Substrate:',sim.get_species('Substrate'))\n",
    "        sim.run_until(sim.t+dt);"
   ]
  }
 ],
 "metadata": {
  "kernelspec": {
   "display_name": "Python 3",
   "language": "python",
   "name": "python3"
  },
  "language_info": {
   "codemirror_mode": {
    "name": "ipython",
    "version": 3
   },
   "file_extension": ".py",
   "mimetype": "text/x-python",
   "name": "python",
   "nbconvert_exporter": "python",
   "pygments_lexer": "ipython3",
   "version": "3.8.10"
  }
 },
 "nbformat": 4,
 "nbformat_minor": 2
}
