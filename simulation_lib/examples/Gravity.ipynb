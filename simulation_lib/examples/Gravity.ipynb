{
 "cells": [
  {
   "cell_type": "markdown",
   "metadata": {},
   "source": [
    "# Gravity\n",
    "***\n",
    "Create particles is an arbitrary configuration (the word \"SpatialPy\"), and subject them to gravity so they fall and bounce on the floor.\n",
    "***\n",
    "## Setup the Environment\n",
    "***"
   ]
  },
  {
   "cell_type": "code",
   "execution_count": null,
   "metadata": {},
   "outputs": [],
   "source": [
    "import os\n",
    "import sys\n",
    "sys.path.insert(1, os.path.abspath(os.path.join(os.getcwd(), '../')))"
   ]
  },
  {
   "cell_type": "markdown",
   "metadata": {},
   "source": [
    "MatPlotLib is used for creating custom visualizations"
   ]
  },
  {
   "cell_type": "code",
   "execution_count": null,
   "metadata": {},
   "outputs": [],
   "source": [
    "import matplotlib.pyplot as plt"
   ]
  },
  {
   "cell_type": "markdown",
   "metadata": {},
   "source": [
    "Numpy is used for the image data structure. Pickle is used for writing the created image file or reading the existing image file. Image, ImageDraw, and ImageFont are only used to create a domain using text."
   ]
  },
  {
   "cell_type": "code",
   "execution_count": null,
   "metadata": {},
   "outputs": [],
   "source": [
    "import numpy\n",
    "import pickle\n",
    "from PIL import Image, ImageDraw, ImageFont"
   ]
  },
  {
   "cell_type": "code",
   "execution_count": null,
   "metadata": {},
   "outputs": [],
   "source": [
    "import gillespy3d"
   ]
  },
  {
   "cell_type": "markdown",
   "metadata": {},
   "source": [
    "***\n",
    "## Creating the Domain File\n",
    "***\n",
    "For our domain we use `True Type Font` to create an image of `SpatialPy` and convert that image into an array of particle locations for our domain."
   ]
  },
  {
   "cell_type": "code",
   "execution_count": null,
   "metadata": {},
   "outputs": [],
   "source": [
    "def create_ttf_image(img_pkl_file, font_path, size=(230, 70), text=\"SpatialPy\", overwrite=False):\n",
    "    # Set the font size\n",
    "    fontsize = 50\n",
    "\n",
    "    # Create the font\n",
    "    fnt = ImageFont.truetype(font_path, fontsize)\n",
    "\n",
    "    # create new image\n",
    "    image = Image.new(\n",
    "        # Set the mode of the image (RGB or RGBA).\n",
    "        mode=\"RGB\",\n",
    "\n",
    "        # Set the size of the image\n",
    "        size=size,\n",
    "\n",
    "        #set the background color of the image\n",
    "        color=\"white\"\n",
    "    )\n",
    "    # Add the text to the image\n",
    "    draw = ImageDraw.Draw(image)\n",
    "    draw.text(\n",
    "        # Set the top left corner of the text\n",
    "        xy=(10, 10),\n",
    "\n",
    "        # Set the text\n",
    "        text=text,\n",
    "\n",
    "        # Set the font\n",
    "        font=fnt,\n",
    "\n",
    "        # Set the fill color\n",
    "        fill=(0, 0, 0)\n",
    "    )\n",
    "\n",
    "    # Write the image to a pickle file if it doesn't exist\n",
    "    image_array = numpy.asarray(image)\n",
    "    if not os.path.isfile(img_pkl_file) or overwrite:\n",
    "        with open(img_pkl_file, 'wb') as p:\n",
    "            pickle.dump(image_array, p)\n",
    "    return image_array"
   ]
  },
  {
   "cell_type": "code",
   "execution_count": null,
   "metadata": {},
   "outputs": [],
   "source": [
    "def load_ttf_image(img_pkl_file):\n",
    "    # Read the existing image pickle file\n",
    "    with open(img_pkl_file, 'rb') as p:\n",
    "        image_array = pickle.load(p)\n",
    "    return image_array"
   ]
  },
  {
   "cell_type": "code",
   "execution_count": null,
   "metadata": {},
   "outputs": [],
   "source": [
    "def create_ttf_domain(ttf_img, preview=True):\n",
    "    wrd_pnts_x = []\n",
    "    wrd_pnts_y = []\n",
    "    for y in range(ttf_img.shape[0]):\n",
    "        for x in range(ttf_img.shape[1]):\n",
    "            # Only add the letters to the domain\n",
    "            if ttf_img[y, x, 0] < 50:\n",
    "                wrd_pnts_x.append(x)\n",
    "                # Tranform the y-coord\n",
    "                wrd_pnts_y.append(-y + ttf_img.shape[0])\n",
    "    if preview:\n",
    "        plt.plot(wrd_pnts_x, wrd_pnts_y, '.k')\n",
    "        _ = plt.axis('equal')\n",
    "    return wrd_pnts_x, wrd_pnts_y"
   ]
  },
  {
   "cell_type": "markdown",
   "metadata": {},
   "source": [
    "To create a domain using this method update the path to the font of your choice and change the text, size, and file name as desired, then run the cell below."
   ]
  },
  {
   "cell_type": "code",
   "execution_count": null,
   "metadata": {},
   "outputs": [],
   "source": [
    "args = {\n",
    "    \"img_pkl_file\": './Domain_Files/SpatialPy_Image.pkl',\n",
    "    # Font path is not the same for all computer/operating systems\n",
    "    \"font_path\": '/usr/share/fonts/truetype/freefont/FreeSerifBold.ttf',\n",
    "    \"size\": (230, 70),\n",
    "    \"text\": \"SpatialPy\",\n",
    "    \"overwrite\": False\n",
    "}\n",
    "ttf_img = create_ttf_image(**args)"
   ]
  },
  {
   "cell_type": "markdown",
   "metadata": {},
   "source": [
    "To use an existing image run the cell below."
   ]
  },
  {
   "cell_type": "code",
   "execution_count": null,
   "metadata": {},
   "outputs": [],
   "source": [
    "ttf_img = load_ttf_image('Domain_Files/SpatialPy_Image.pkl')"
   ]
  },
  {
   "cell_type": "markdown",
   "metadata": {},
   "source": [
    "Now convert the image into usable particle locations and preview the domain."
   ]
  },
  {
   "cell_type": "code",
   "execution_count": null,
   "metadata": {},
   "outputs": [],
   "source": [
    "wrd_pnts_x, wrd_pnts_y = create_ttf_domain(ttf_img)"
   ]
  },
  {
   "cell_type": "markdown",
   "metadata": {},
   "source": [
    "***\n",
    "## Creating the Boundary Conditions for the System\n",
    "***\n",
    "For custom boundary conditions it is necessary to subclass the `BoundaryCondition` class that implements the `__init__` and `expression` methods. The `expression` method must return a `C++` executable code block in string format.\n",
    "\n",
    "For this example we create a custom boundry condition that simulates a particle bouncing when it interacts with the hard floor."
   ]
  },
  {
   "cell_type": "code",
   "execution_count": null,
   "metadata": {},
   "outputs": [],
   "source": [
    "class BouncyParticles(spatialpy.BoundaryCondition):\n",
    "    def __init__(self):\n",
    "        pass\n",
    "    \n",
    "    def expression(self):\n",
    "        return \"\"\"\n",
    "        if(me->x[1] < system->ylo){\n",
    "            me->x[1] = system->ylo;\n",
    "            me->v[1] = -0.95 * me->v[1];\n",
    "        }\n",
    "        me->x[2] = 0.0;\n",
    "        me->rho = 1.0;\n",
    "        \"\"\""
   ]
  },
  {
   "cell_type": "markdown",
   "metadata": {},
   "source": [
    "***\n",
    "## Creating a Fluid Dynamics Model using SpatialPy\n",
    "***"
   ]
  },
  {
   "cell_type": "code",
   "execution_count": null,
   "metadata": {},
   "outputs": [],
   "source": [
    "def create_gravity_model(x_vals, y_vals, xmax, ymax, parameter_values=None):\n",
    "    # Initialize Model\n",
    "    model = spatialpy.Model(\"SpatialPy Gravity\")\n",
    "\n",
    "    # Define Domain Type IDs as constants of the Model\n",
    "    model.WORD = \"Word\"\n",
    "\n",
    "    \"\"\"\n",
    "    Create an empty domain\n",
    "    - numpoints: Total number of spatial domain points.\n",
    "    - xlim: Range of domain along x-axis.\n",
    "    - ylim: Range of domain along y-axis.\n",
    "    - zlim: Range of domain along z-axis.\n",
    "    - rho0: Background density for the system.\n",
    "    - c0: Speed of sound for the system.\n",
    "    - P0: Background pressure for the system.\n",
    "    - gravity: Acceleration of gravity for the system.\n",
    "    \"\"\"\n",
    "    domain = spatialpy.Domain(\n",
    "        numpoints=0, xlim=(0, xmax), ylim=(0, ymax), zlim=(0, 0), gravity=[0, -1, 0]\n",
    "    )\n",
    "    # Manually fill our domain with particles\n",
    "    for i, x_val in enumerate(x_vals):\n",
    "        \"\"\"\n",
    "        Add a single point particle to the domain space.\n",
    "\n",
    "        - point: Spatial coordinate vertices of point to be added.\n",
    "        - type_id: Particle type ID of particle to be created.\n",
    "        - vol: Default volume of particle to be added.\n",
    "        - mass: Default mass of particle to be added.\n",
    "        - nu: Default viscosity of particle to be created.\n",
    "        - c: Default artificial speed of sound of particle to be created.\n",
    "        - rho: Default density of particle to be created\n",
    "        - fixed: True if particle is spatially fixed, else False.\n",
    "        \"\"\"\n",
    "        domain.add_point(\n",
    "            point=[x_val, y_vals[i], 0], type_id=model.WORD, vol=1.0, mass=1.0, nu=1.0\n",
    "        )\n",
    "\n",
    "    # Set Model Domain\n",
    "    model.add_domain(domain)\n",
    "\n",
    "    # Add Boundary Conditions to Model\n",
    "    model.add_boundary_condition(BouncyParticles())\n",
    "\n",
    "    # Setting staticDomain to False allows particles to move within the system.\n",
    "    model.staticDomain = False\n",
    "    \n",
    "    # Define Domain\n",
    "    tspan = spatialpy.TimeSpan.linspace(t=50, num_points=201, timestep_size=1e-3)\n",
    "    \n",
    "    # Set Model Timespan\n",
    "    model.timespan(tspan)\n",
    "    return model"
   ]
  },
  {
   "cell_type": "markdown",
   "metadata": {},
   "source": [
    "### Instantiate your Model"
   ]
  },
  {
   "cell_type": "code",
   "execution_count": null,
   "metadata": {},
   "outputs": [],
   "source": [
    "model = create_gravity_model(wrd_pnts_x, wrd_pnts_y, ttf_img.shape[1], ttf_img.shape[0])"
   ]
  },
  {
   "cell_type": "markdown",
   "metadata": {},
   "source": [
    "***\n",
    "## Run the Simulation\n",
    "***"
   ]
  },
  {
   "cell_type": "code",
   "execution_count": null,
   "metadata": {},
   "outputs": [],
   "source": [
    "results = model.run()"
   ]
  },
  {
   "cell_type": "markdown",
   "metadata": {},
   "source": [
    "***\n",
    "## Visualizations\n",
    "***\n",
    "Plot the results of the simulation.\n",
    "\n",
    "For fluid dynamics problems visualizing particle properies can be valuable, lets plot the `Type IDs` of the particles at the start of the simulation using MatPlotLib."
   ]
  },
  {
   "cell_type": "code",
   "execution_count": null,
   "metadata": {
    "scrolled": false
   },
   "outputs": [],
   "source": [
    "model.domain.plot_types(use_matplotlib=True)"
   ]
  },
  {
   "cell_type": "code",
   "execution_count": null,
   "metadata": {
    "scrolled": false
   },
   "outputs": [],
   "source": [
    "results.plot_property(\n",
    "    # Set the name of the property.\n",
    "    property_name='type',\n",
    "    \n",
    "    # Set to True to use MatPlotLib plotting\n",
    "    use_matplotlib=True,\n",
    "    \n",
    "    # Set the width and height of the plot (for MatPlotLib these units are in inches)\n",
    "    width=15,\n",
    "    height=5\n",
    ")"
   ]
  },
  {
   "cell_type": "markdown",
   "metadata": {
    "scrolled": false
   },
   "source": [
    "Just like before that plot is somewhat boring, so lets plot the `Type IDs` over time using Plotly anumation."
   ]
  },
  {
   "cell_type": "code",
   "execution_count": null,
   "metadata": {},
   "outputs": [],
   "source": [
    "results.plot_property(\n",
    "    # Set the name of the property.\n",
    "    property_name='type',\n",
    "    \n",
    "    # Set to True to use Plotly animation\n",
    "    animated=True,\n",
    "    \n",
    "    # Set the transition and frame durations\n",
    "    t_duration=300,\n",
    "    f_duration=100\n",
    ")"
   ]
  },
  {
   "cell_type": "markdown",
   "metadata": {},
   "source": [
    "Other properties that are available for vizualization are:\n",
    "- Velocity: `v`\n",
    "- Density: `rho`\n",
    "- Mass: `mass`\n",
    "- Viscocity: `nu`\n",
    "- Boundary Volume Fraction: `bvf_phi` (non-standard SDPD: https://www.sciencedirect.com/science/article/abs/pii/S0955799721000916)\n",
    "\n",
    "Lets plot the velocity in the `Y` direction."
   ]
  },
  {
   "cell_type": "code",
   "execution_count": null,
   "metadata": {},
   "outputs": [],
   "source": [
    "results.plot_property(\n",
    "    # Set the name of the property.\n",
    "    property_name='v',\n",
    "    \n",
    "    # Set the velocity direction (X: 0, Y: 1, Z: 0)\n",
    "    p_ndx=1,\n",
    "    \n",
    "    # Set to True to use Plotly animation\n",
    "    animated=True,\n",
    "    \n",
    "    # Set the transition and frame durations\n",
    "    t_duration=300,\n",
    "    f_duration=100\n",
    ")"
   ]
  },
  {
   "cell_type": "markdown",
   "metadata": {},
   "source": [
    "A more complete list of `results.plot_property()` arguments can be found in the [documentation](https://stochss.github.io/SpatialPy/docs/build/html/classes/spatialpy.core.html#spatialpy.core.result.Result.plot_property)."
   ]
  }
 ],
 "metadata": {
  "kernelspec": {
   "display_name": "Python 3",
   "language": "python",
   "name": "python3"
  },
  "language_info": {
   "codemirror_mode": {
    "name": "ipython",
    "version": 3
   },
   "file_extension": ".py",
   "mimetype": "text/x-python",
   "name": "python",
   "nbconvert_exporter": "python",
   "pygments_lexer": "ipython3",
   "version": "3.8.10"
  }
 },
 "nbformat": 4,
 "nbformat_minor": 4
}
